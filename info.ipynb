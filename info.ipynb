{
 "cells": [
  {
   "cell_type": "markdown",
   "id": "60ee085a",
   "metadata": {},
   "source": [
    "The goal: use an AI model to generate MIDI from text. \n",
    "Follow these steps:\n",
    "*Anaconda or Miniconda recommended\n",
    "*This project was made on MacOS"
   ]
  },
  {
   "cell_type": "markdown",
   "id": "f11dfb14",
   "metadata": {},
   "source": [
    "It is recommended to create a new conda environment for this project. \n",
    "Use these terminal commands:\n",
    "\n",
    "conda create --name ai_midi #replace ai_midi with a name of your choice\n",
    "conda activate ai_midi #replace ai_midi with a name of your choice\n",
    "\n",
    "Go to https://huggingface.co/amaai-lab/text2midi for installation instructions \n",
    "for the specific model we are using (text2midi)\n",
    "\n"
   ]
  },
  {
   "cell_type": "code",
   "execution_count": 11,
   "id": "b368b9a4",
   "metadata": {},
   "outputs": [
    {
     "name": "stdout",
     "output_type": "stream",
     "text": [
      "sys.version_info(major=3, minor=12, micro=9, releaselevel='final', serial=0)\n",
      "/Users/prathambansal/Projects/Streamline\n"
     ]
    }
   ],
   "source": [
    "#info about python\n",
    "import os\n",
    "import sys\n",
    "print(sys.version_info)\n",
    "print(os.getcwd())\n",
    "\n",
    "\n",
    "#testing all import statements:\n",
    "import pickle\n",
    "import torch\n",
    "import torch.nn as nn\n",
    "from transformers import T5Tokenizer\n",
    "from text2midi.model.transformer_model import Transformer\n",
    "from huggingface_hub import hf_hub_download\n"
   ]
  },
  {
   "cell_type": "code",
   "execution_count": 12,
   "id": "bca4376e",
   "metadata": {},
   "outputs": [
    {
     "name": "stderr",
     "output_type": "stream",
     "text": [
      "1191.60s - pydevd: Sending message related to process being replaced timed-out after 5 seconds\n"
     ]
    },
    {
     "name": "stdout",
     "output_type": "stream",
     "text": [
      "\u001b[34mBuilds\u001b[m\u001b[m             \u001b[34mSource\u001b[m\u001b[m             index.html         \u001b[34mtext2midi\u001b[m\u001b[m\n",
      "\u001b[34mJUCE\u001b[m\u001b[m               StreamlineAI.jucer info.ipynb\n",
      "\u001b[34mJuceLibraryCode\u001b[m\u001b[m    \u001b[34massets\u001b[m\u001b[m             process.py\n",
      "README.md          environment.yml    text.txt\n",
      "User Responses:\n",
      "\n",
      "Output Format: MIDI\n",
      "\n",
      "Tempo Specification: Enter a specific BPM\n",
      "\n",
      "Specific BPM: 120\n",
      "\n",
      "Time Signature: 4/4 (Common time)\n",
      "\n",
      "Key: C Major / A Minor\n",
      "\n",
      "Instrument: Piano\n",
      "\n",
      "Genre: Rock\n",
      "\n",
      "Style: Standard/Traditional\n",
      "\n",
      "Measures: 16\n",
      "\n",
      "Mood: Happy\n",
      "\n",
      "Rhythm Complexity: 50/10\n",
      "\n",
      "Melodic Complexity: 50/10\n",
      "\n",
      "Additional Notes: None\n",
      "\n"
     ]
    }
   ],
   "source": [
    "! ls #Find text.txt file in the current directory\n",
    "#Getting info from \"text.txt\" file and printing it:\n",
    "# my_script.py\n",
    "\n",
    "def print_text_from_file(filename=\"text.txt\"):\n",
    "    \"\"\"Prints each line of text from the specified file.\"\"\"\n",
    "    try:\n",
    "        with open(filename, 'r') as file:\n",
    "            for line in file:\n",
    "                # Print each line, removing any trailing newline characters\n",
    "                print(line.rstrip('\\n'))\n",
    "    except FileNotFoundError:\n",
    "        print(f\"Error: The file '{filename}' was not found in the current directory.\")\n",
    "    except Exception as e:\n",
    "        print(f\"An error occurred: {e}\")\n",
    "\n",
    "if __name__ == \"__main__\":\n",
    "    print_text_from_file()"
   ]
  },
  {
   "cell_type": "code",
   "execution_count": 13,
   "id": "40f9ee0d",
   "metadata": {},
   "outputs": [
    {
     "name": "stdout",
     "output_type": "stream",
     "text": [
      "{'User Responses': '', 'Output Format': ' MIDI', 'Tempo Specification': ' Enter a specific BPM', 'Specific BPM': ' 120', 'Time Signature': ' 4/4 (Common time)', 'Key': ' C Major / A Minor', 'Instrument': ' Piano', 'Genre': ' Rock', 'Style': ' Standard/Traditional', 'Measures': ' 16', 'Mood': ' Happy', 'Rhythm Complexity': ' 50/10', 'Melodic Complexity': ' 50/10', 'Additional Notes': ' None'}\n"
     ]
    }
   ],
   "source": [
    "#change the code to saving the data into a dictionary \"user_request\"\n",
    "def receive_data_efficient(filename=\"text.txt\"):\n",
    "    \"\"\"Reads key-value pairs from a text file into a dictionary.\"\"\"\n",
    "    try:\n",
    "        with open(filename, 'r') as f:\n",
    "            return dict(kv.strip().split(\":\", 1) for line in f if \":\" in (kv := line.strip()))\n",
    "    except FileNotFoundError:\n",
    "        print(f\"Error: File '{filename}' not found.\")\n",
    "        return {}\n",
    "    except Exception as e:\n",
    "        print(f\"An error occurred: {e}\")\n",
    "        return {}\n",
    "\n",
    "if __name__ == \"__main__\":\n",
    "    user_request = receive_data_efficient()\n",
    "    print(user_request) #print the data"
   ]
  }
 ],
 "metadata": {
  "kernelspec": {
   "display_name": "streamline",
   "language": "python",
   "name": "python3"
  },
  "language_info": {
   "codemirror_mode": {
    "name": "ipython",
    "version": 3
   },
   "file_extension": ".py",
   "mimetype": "text/x-python",
   "name": "python",
   "nbconvert_exporter": "python",
   "pygments_lexer": "ipython3",
   "version": "3.13.2"
  }
 },
 "nbformat": 4,
 "nbformat_minor": 5
}
